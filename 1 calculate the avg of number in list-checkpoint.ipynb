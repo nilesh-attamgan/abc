{
 "cells": [
  {
   "cell_type": "code",
   "execution_count": 1,
   "id": "9ec47279",
   "metadata": {},
   "outputs": [
    {
     "name": "stdout",
     "output_type": "stream",
     "text": [
      "Enter the element to be inserted: 5\n",
      "Enter the element : 10\n",
      "Enter the element : 30\n",
      "Enter the element : 25\n",
      "Enter the element : 35\n",
      "Enter the element : 66\n",
      "Average of element in list :  33.2\n"
     ]
    }
   ],
   "source": [
    "n=int(input('Enter the element to be inserted: '))\n",
    "a=[]\n",
    "for i in range(0,n):\n",
    "    elem=int(input('Enter the element : '))\n",
    "    a.append(elem)\n",
    "avg=sum(a)/n\n",
    "print('Average of element in list : ',(avg))"
   ]
  },
  {
   "cell_type": "code",
   "execution_count": null,
   "id": "92706c67",
   "metadata": {},
   "outputs": [],
   "source": []
  }
 ],
 "metadata": {
  "kernelspec": {
   "display_name": "Python 3 (ipykernel)",
   "language": "python",
   "name": "python3"
  },
  "language_info": {
   "codemirror_mode": {
    "name": "ipython",
    "version": 3
   },
   "file_extension": ".py",
   "mimetype": "text/x-python",
   "name": "python",
   "nbconvert_exporter": "python",
   "pygments_lexer": "ipython3",
   "version": "3.9.12"
  }
 },
 "nbformat": 4,
 "nbformat_minor": 5
}
